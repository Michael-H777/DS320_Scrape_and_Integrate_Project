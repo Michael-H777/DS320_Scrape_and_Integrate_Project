{
 "cells": [
  {
   "cell_type": "code",
   "execution_count": 1,
   "metadata": {},
   "outputs": [],
   "source": [
    "import os \n",
    "import re \n",
    "\n",
    "import requests \n",
    "from bs4 import BeautifulSoup as bsoup "
   ]
  },
  {
   "cell_type": "code",
   "execution_count": 2,
   "metadata": {},
   "outputs": [],
   "source": [
    "master_url = 'https://www.imdb.com'\n",
    "rank_url = 'https://www.imdb.com/list/ls072933289/?sort=list_order,asc&st_dt=&mode=detail&page={}'"
   ]
  },
  {
   "cell_type": "code",
   "execution_count": 3,
   "metadata": {},
   "outputs": [],
   "source": [
    "movie_rank_soup = bsoup(requests.get(rank_url.format('1')).text, 'html.parser')\n",
    "result = movie_rank_soup.find_all(class_='lister-item mode-detail')\n",
    "partial_title_url = re.compile('/title/.*/$')"
   ]
  },
  {
   "cell_type": "code",
   "execution_count": 4,
   "metadata": {},
   "outputs": [
    {
     "data": {
      "text/plain": [
       "[<a href=\"/title/tt0068646/\"> <img alt=\"The Godfather\" class=\"loadlate\" data-tconst=\"tt0068646\" height=\"209\" loadlate=\"https://m.media-amazon.com/images/M/MV5BM2MyNjYxNmUtYTAwNi00MTYxLWJmNWYtYzZlODY3ZTk3OTFlXkEyXkFqcGdeQXVyNzkwMjQ5NzM@._V1_UY209_CR3,0,140,209_AL_.jpg\" src=\"https://m.media-amazon.com/images/G/01/imdb/images/nopicture/large/film-184890147._CB466725069_.png\" width=\"140\"/>\n",
       " </a>,\n",
       " <a href=\"/title/tt0068646/\">The Godfather</a>]"
      ]
     },
     "execution_count": 4,
     "metadata": {},
     "output_type": "execute_result"
    }
   ],
   "source": [
    "result[0].find_all('a', attrs={'href': partial_title_url})"
   ]
  },
  {
   "cell_type": "code",
   "execution_count": 5,
   "metadata": {},
   "outputs": [
    {
     "name": "stdout",
     "output_type": "stream",
     "text": [
      "/title/tt0068646/\n"
     ]
    }
   ],
   "source": [
    "temp = result[0].find_all('a', attrs={'href': partial_title_url})[1].attrs['href']\n",
    "print(temp)"
   ]
  },
  {
   "cell_type": "code",
   "execution_count": 6,
   "metadata": {},
   "outputs": [
    {
     "name": "stdout",
     "output_type": "stream",
     "text": [
      "The Godfather\n",
      "The Shawshank Redemption\n",
      "Seven Samurai\n",
      "City of God\n",
      "The Godfather: Part II\n",
      "Pulp Fiction\n",
      "12 Angry Men\n",
      "One Flew Over the Cuckoo's Nest\n",
      "The Lord of the Rings: The Return of the King\n",
      "Schindler's List\n"
     ]
    }
   ],
   "source": [
    "for item in result[:10]: \n",
    "    temp1 = item.find_all('a', attrs={'href': partial_title_url})\n",
    "    print(temp1[1].text)"
   ]
  },
  {
   "cell_type": "markdown",
   "metadata": {},
   "source": [
    "---"
   ]
  },
  {
   "cell_type": "code",
   "execution_count": 7,
   "metadata": {},
   "outputs": [],
   "source": [
    "item_url_imbd = f'{master_url}{temp}'"
   ]
  },
  {
   "cell_type": "code",
   "execution_count": 9,
   "metadata": {},
   "outputs": [],
   "source": [
    "item_soup_imbd = bsoup(requests.get(item_url_imbd).content, 'html.parser')"
   ]
  },
  {
   "cell_type": "code",
   "execution_count": 12,
   "metadata": {},
   "outputs": [
    {
     "data": {
      "text/plain": [
       "<span itemprop=\"ratingValue\">9.2</span>"
      ]
     },
     "execution_count": 12,
     "metadata": {},
     "output_type": "execute_result"
    }
   ],
   "source": [
    "item_soup_imbd.find('span', attrs={'itemprop': 'ratingValue'})"
   ]
  },
  {
   "cell_type": "code",
   "execution_count": 13,
   "metadata": {},
   "outputs": [
    {
     "data": {
      "text/plain": [
       "<span class=\"small\" itemprop=\"ratingCount\">1,583,640</span>"
      ]
     },
     "execution_count": 13,
     "metadata": {},
     "output_type": "execute_result"
    }
   ],
   "source": [
    "item_soup_imbd.find('span', attrs={'itemprop': 'ratingCount'})"
   ]
  },
  {
   "cell_type": "code",
   "execution_count": 17,
   "metadata": {},
   "outputs": [],
   "source": [
    "info_block = item_soup_imbd.find(attrs={'class': 'title_wrapper'})"
   ]
  },
  {
   "cell_type": "code",
   "execution_count": 18,
   "metadata": {},
   "outputs": [
    {
     "data": {
      "text/plain": [
       "<div class=\"title_wrapper\">\n",
       "<h1 class=\"\">The Godfather <span id=\"titleYear\">(<a href=\"/year/1972/\">1972</a>)</span> </h1>\n",
       "<div class=\"subtext\">\n",
       "                    R\n",
       "    <span class=\"ghost\">|</span> <time datetime=\"PT175M\">\n",
       "                        2h 55min\n",
       "                    </time>\n",
       "<span class=\"ghost\">|</span>\n",
       "<a href=\"/search/title?genres=crime&amp;explore=title_type,genres\">Crime</a>, \n",
       "<a href=\"/search/title?genres=drama&amp;explore=title_type,genres\">Drama</a>\n",
       "<span class=\"ghost\">|</span>\n",
       "<a href=\"/title/tt0068646/releaseinfo\" title=\"See more release dates\">24 March 1972 (USA)\n",
       "</a> </div>\n",
       "</div>"
      ]
     },
     "execution_count": 18,
     "metadata": {},
     "output_type": "execute_result"
    }
   ],
   "source": [
    "info_block"
   ]
  },
  {
   "cell_type": "code",
   "execution_count": 19,
   "metadata": {},
   "outputs": [
    {
     "data": {
      "text/plain": [
       "['1972', 'Crime', 'Drama', '24 March 1972 (USA)\\n']"
      ]
     },
     "execution_count": 19,
     "metadata": {},
     "output_type": "execute_result"
    }
   ],
   "source": [
    "[item.text for item in lv1.find_all('a')]"
   ]
  },
  {
   "cell_type": "code",
   "execution_count": 50,
   "metadata": {},
   "outputs": [
    {
     "name": "stdout",
     "output_type": "stream",
     "text": [
      "$6,000,000\n",
      "Gross USA: $134,966,411        \n",
      "Gross: $246,120,974        \n"
     ]
    }
   ],
   "source": [
    "for item in item_soup_imbd.find_all(class_='txt-block'):\n",
    "    if 'Budget' in str(item):\n",
    "        print(re.search('Budget:(.*)', item.text).group(1))\n",
    "    if 'Gross' in str(item):\n",
    "        print(re.search('(Gross.*:.*)', item.text).group(1))"
   ]
  },
  {
   "cell_type": "code",
   "execution_count": 54,
   "metadata": {},
   "outputs": [],
   "source": [
    "review_block = item_soup_imbd.find(class_='user-comments')"
   ]
  },
  {
   "cell_type": "code",
   "execution_count": 56,
   "metadata": {},
   "outputs": [],
   "source": [
    "review_link_regex = re.compile('.*reviews.*')\n",
    "review_block.find({'href': review_link_regex})"
   ]
  },
  {
   "cell_type": "code",
   "execution_count": null,
   "metadata": {},
   "outputs": [],
   "source": []
  },
  {
   "cell_type": "code",
   "execution_count": null,
   "metadata": {},
   "outputs": [],
   "source": []
  },
  {
   "cell_type": "code",
   "execution_count": null,
   "metadata": {},
   "outputs": [],
   "source": []
  }
 ],
 "metadata": {
  "kernelspec": {
   "display_name": "Python 3",
   "language": "python",
   "name": "python3"
  },
  "language_info": {
   "codemirror_mode": {
    "name": "ipython",
    "version": 3
   },
   "file_extension": ".py",
   "mimetype": "text/x-python",
   "name": "python",
   "nbconvert_exporter": "python",
   "pygments_lexer": "ipython3",
   "version": "3.6.9"
  }
 },
 "nbformat": 4,
 "nbformat_minor": 4
}
