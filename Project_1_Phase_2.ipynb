{
 "cells": [
  {
   "cell_type": "code",
   "execution_count": 1,
   "metadata": {},
   "outputs": [],
   "source": [
    "import os\n",
    "import re\n",
    "\n",
    "import numpy as np\n",
    "import pandas as pd\n",
    "import flexmatcher\n",
    "import Levenshtein\n",
    "\n",
    "import seaborn as sns\n",
    "import matplotlib.pyplot as plt\n",
    "%matplotlib inline\n",
    "\n",
    "import warnings\n",
    "warnings.filterwarnings('ignore')"
   ]
  },
  {
   "cell_type": "code",
   "execution_count": 2,
   "metadata": {},
   "outputs": [],
   "source": [
    "if not os.path.exists('data/'):\n",
    "    os.mkdir('data')\n",
    "    pd.read_csv('../Project/scrape_results/imdb_master.csv').to_csv('data/imdb_movie.csv')\n",
    "    tomato_movie = pd.read_csv('../Project/scrape_results/tomato_master.csv')\n",
    "    for word_num in range(1, 6):\n",
    "        col_name = f'review_word_{word_num}'\n",
    "        tomato_movie[col_name] = tomato_movie[col_name].replace(to_replace=list('12345'), value='')\n",
    "    tomato_movie.to_csv('data/tomato_movie.csv')"
   ]
  },
  {
   "cell_type": "markdown",
   "metadata": {},
   "source": [
    "# Part A: \n",
    "\n",
    "\n",
    "## Process datasets"
   ]
  },
  {
   "cell_type": "code",
   "execution_count": 3,
   "metadata": {},
   "outputs": [],
   "source": [
    "imdb_movie = pd.read_csv('data/imdb_movie.csv').drop(columns=['Unnamed: 0'])\n",
    "tomato_movie = pd.read_csv('data/tomato_movie.csv').drop(columns=['Unnamed: 0'])"
   ]
  },
  {
   "cell_type": "markdown",
   "metadata": {},
   "source": [
    "---\n",
    "### Process imdb movie data "
   ]
  },
  {
   "cell_type": "code",
   "execution_count": 4,
   "metadata": {},
   "outputs": [
    {
     "data": {
      "text/plain": [
       "False    1000\n",
       "dtype: int64"
      ]
     },
     "execution_count": 4,
     "metadata": {},
     "output_type": "execute_result"
    }
   ],
   "source": [
    "# we can see that there are no duplicated values\n",
    "imdb_movie.duplicated().value_counts()"
   ]
  },
  {
   "cell_type": "code",
   "execution_count": 5,
   "metadata": {},
   "outputs": [
    {
     "data": {
      "text/plain": [
       "rank               0\n",
       "title              0\n",
       "year               0\n",
       "genre              0\n",
       "rating_score       0\n",
       "rating_count       0\n",
       "box gross        190\n",
       "review_word_1      0\n",
       "review_word_2      0\n",
       "review_word_3      0\n",
       "review_word_4      0\n",
       "review_word_5      0\n",
       "dtype: int64"
      ]
     },
     "execution_count": 5,
     "metadata": {},
     "output_type": "execute_result"
    }
   ],
   "source": [
    "# However there are significant missing values in box gross\n",
    "imdb_movie.isna().sum()"
   ]
  },
  {
   "cell_type": "code",
   "execution_count": 6,
   "metadata": {},
   "outputs": [],
   "source": [
    "# filling these values with median is very odd. However this is probably the only thing we can do \n",
    "# we do not have enough data to make prediction using linear regression to fill missing value \n",
    "# we also have the wrong data types to use KNN to fill missing vlaue \n",
    "imdb_movie['box gross'].fillna(value=imdb_movie['box gross'].median(), inplace=True)"
   ]
  },
  {
   "cell_type": "code",
   "execution_count": 7,
   "metadata": {},
   "outputs": [
    {
     "data": {
      "text/plain": [
       "rank             0\n",
       "title            0\n",
       "year             0\n",
       "genre            0\n",
       "rating_score     0\n",
       "rating_count     0\n",
       "box gross        0\n",
       "review_word_1    0\n",
       "review_word_2    0\n",
       "review_word_3    0\n",
       "review_word_4    0\n",
       "review_word_5    0\n",
       "dtype: int64"
      ]
     },
     "execution_count": 7,
     "metadata": {},
     "output_type": "execute_result"
    }
   ],
   "source": [
    "imdb_movie.isna().sum()"
   ]
  },
  {
   "cell_type": "markdown",
   "metadata": {},
   "source": [
    "---\n",
    "### Process tomato movie data"
   ]
  },
  {
   "cell_type": "code",
   "execution_count": 8,
   "metadata": {},
   "outputs": [
    {
     "data": {
      "text/plain": [
       "False    511\n",
       "dtype: int64"
      ]
     },
     "execution_count": 8,
     "metadata": {},
     "output_type": "execute_result"
    }
   ],
   "source": [
    "# same here, there is no duplicate, however we have significantly less rows compare to imdb_movie\n",
    "tomato_movie.duplicated().value_counts()"
   ]
  },
  {
   "cell_type": "code",
   "execution_count": 9,
   "metadata": {},
   "outputs": [
    {
     "data": {
      "text/plain": [
       "rank               0\n",
       "title              0\n",
       "year               0\n",
       "genre            101\n",
       "user_rating       94\n",
       "rating_count      96\n",
       "us_gross_box     242\n",
       "review_word_1    100\n",
       "review_word_2    100\n",
       "review_word_3    100\n",
       "review_word_4    100\n",
       "review_word_5    100\n",
       "dtype: int64"
      ]
     },
     "execution_count": 9,
     "metadata": {},
     "output_type": "execute_result"
    }
   ],
   "source": [
    "tomato_movie.isna().sum()"
   ]
  },
  {
   "cell_type": "markdown",
   "metadata": {},
   "source": [
    "#### Fill missing value in genre"
   ]
  },
  {
   "cell_type": "code",
   "execution_count": 10,
   "metadata": {},
   "outputs": [],
   "source": [
    "# there are quite a lot of missing values, but we can borrow some from imdb_movie to fill. \n",
    "# for example, genre should be the same regardless of what website said movie is listed on \n",
    "for row_index, series in tomato_movie.loc[tomato_movie['genre'].isna()].iterrows():\n",
    "    imdb_match = imdb_movie.loc[imdb_movie['title'] == series['title']]\n",
    "    if len(imdb_match):\n",
    "        tomato_movie.at[row_index, 'genre'] = imdb_match['genre'].to_list()[0]"
   ]
  },
  {
   "cell_type": "code",
   "execution_count": 11,
   "metadata": {},
   "outputs": [
    {
     "data": {
      "text/plain": [
       "rank               0\n",
       "title              0\n",
       "year               0\n",
       "genre              0\n",
       "user_rating       94\n",
       "rating_count      96\n",
       "us_gross_box     242\n",
       "review_word_1    100\n",
       "review_word_2    100\n",
       "review_word_3    100\n",
       "review_word_4    100\n",
       "review_word_5    100\n",
       "dtype: int64"
      ]
     },
     "execution_count": 11,
     "metadata": {},
     "output_type": "execute_result"
    }
   ],
   "source": [
    "# now that we have get ride of all the NA in genre\n",
    "# however, user_rating and movie_count remains a big issue\n",
    "tomato_movie.isna().sum()"
   ]
  },
  {
   "cell_type": "markdown",
   "metadata": {},
   "source": [
    "#### Find best approach to fill user_rating"
   ]
  },
  {
   "cell_type": "code",
   "execution_count": 12,
   "metadata": {},
   "outputs": [],
   "source": [
    "# lets make a copy of the DF with only valid user_rating and rating_count \n",
    "# to see if we can use a linear regression with user_rating = weight*rank + bias to fill user_rating\n",
    "# as discussed, we can't use KNN to fill anything\n",
    "valid_tomato_movie = tomato_movie.loc[tomato_movie['user_rating'].notna() & tomato_movie['rating_count'].notna()]"
   ]
  },
  {
   "cell_type": "code",
   "execution_count": 13,
   "metadata": {},
   "outputs": [
    {
     "data": {
      "text/plain": [
       "<matplotlib.collections.PathCollection at 0x7f550371fda0>"
      ]
     },
     "execution_count": 13,
     "metadata": {},
     "output_type": "execute_result"
    },
    {
     "data": {
      "image/png": "[encoded data removed]",
      "text/plain": [
       "<Figure size 432x288 with 1 Axes>"
      ]
     },
     "metadata": {
      "needs_background": "light"
     },
     "output_type": "display_data"
    }
   ],
   "source": [
    "# observe that there are some weird values. This is probably caused by mis-parsed string when scraping. \n",
    "plt.scatter(valid_tomato_movie['rank'], valid_tomato_movie['user_rating'], s=1)"
   ]
  },
  {
   "cell_type": "code",
   "execution_count": 14,
   "metadata": {},
   "outputs": [],
   "source": [
    "# lets try to fix that issue by converting values larger than 1 into float \n",
    "def make_percentage(value):\n",
    "    return value/100 if value > 1 else value "
   ]
  },
  {
   "cell_type": "code",
   "execution_count": 15,
   "metadata": {},
   "outputs": [
    {
     "data": {
      "text/plain": [
       "<AxesSubplot:xlabel='rank', ylabel='user_rating'>"
      ]
     },
     "execution_count": 15,
     "metadata": {},
     "output_type": "execute_result"
    },
    {
     "data": {
      "image/png": "[encoded data removed]",
      "text/plain": [
       "<Figure size 432x288 with 1 Axes>"
      ]
     },
     "metadata": {
      "needs_background": "light"
     },
     "output_type": "display_data"
    }
   ],
   "source": [
    "# even though we converted the values into float, this is not even close to a valid linear regression line\n",
    "valid_tomato_movie['user_rating'] = valid_tomato_movie['user_rating'].map(make_percentage) * 10\n",
    "sns.regplot(valid_tomato_movie['rank'], valid_tomato_movie['user_rating'], scatter_kws={'s':1})"
   ]
  },
  {
   "cell_type": "markdown",
   "metadata": {},
   "source": [
    "#### Find best approach to fill rating_count"
   ]
  },
  {
   "cell_type": "code",
   "execution_count": 16,
   "metadata": {},
   "outputs": [
    {
     "data": {
      "text/plain": [
       "<AxesSubplot:xlabel='rank', ylabel='rating_count'>"
      ]
     },
     "execution_count": 16,
     "metadata": {},
     "output_type": "execute_result"
    },
    {
     "data": {
      "image/png": "[encoded data removed]",
      "text/plain": [
       "<Figure size 432x288 with 1 Axes>"
      ]
     },
     "metadata": {
      "needs_background": "light"
     },
     "output_type": "display_data"
    }
   ],
   "source": [
    "# same here with rating_count. the outlier is causing too much trouble\n",
    "sns.regplot(valid_tomato_movie['rank'], valid_tomato_movie['rating_count'], scatter_kws={'s':1})"
   ]
  },
  {
   "cell_type": "code",
   "execution_count": 17,
   "metadata": {},
   "outputs": [
    {
     "data": {
      "text/plain": [
       "<AxesSubplot:xlabel='rank', ylabel='rating_count'>"
      ]
     },
     "execution_count": 17,
     "metadata": {},
     "output_type": "execute_result"
    },
    {
     "data": {
      "image/png": "[encoded data removed]",
      "text/plain": [
       "<Figure size 432x288 with 1 Axes>"
      ]
     },
     "metadata": {
      "needs_background": "light"
     },
     "output_type": "display_data"
    }
   ],
   "source": [
    "# but even if you clip it, the regression is still not coherent \n",
    "sns.regplot(valid_tomato_movie['rank'], valid_tomato_movie['rating_count'].clip(0, 1e6), scatter_kws={'s':1})"
   ]
  },
  {
   "cell_type": "markdown",
   "metadata": {},
   "source": [
    "#### Just use median "
   ]
  },
  {
   "cell_type": "code",
   "execution_count": 18,
   "metadata": {},
   "outputs": [],
   "source": [
    "# right now, the best way to fill user_rating and rating_count is to use median\n",
    "tomato_movie['user_rating'] = tomato_movie['user_rating'].map(make_percentage, na_action='ignore') * 10\n",
    "\n",
    "tomato_movie['user_rating'].fillna(value=tomato_movie['user_rating'].median(), inplace=True)\n",
    "tomato_movie['rating_count'].fillna(value=tomato_movie['rating_count'].median(), inplace=True)"
   ]
  },
  {
   "cell_type": "markdown",
   "metadata": {},
   "source": [
    "#### How avout us_box_gross and missing words? "
   ]
  },
  {
   "cell_type": "code",
   "execution_count": 19,
   "metadata": {},
   "outputs": [
    {
     "data": {
      "text/plain": [
       "rank               0\n",
       "title              0\n",
       "year               0\n",
       "genre              0\n",
       "user_rating        0\n",
       "rating_count       0\n",
       "us_gross_box     242\n",
       "review_word_1    100\n",
       "review_word_2    100\n",
       "review_word_3    100\n",
       "review_word_4    100\n",
       "review_word_5    100\n",
       "dtype: int64"
      ]
     },
     "execution_count": 19,
     "metadata": {},
     "output_type": "execute_result"
    }
   ],
   "source": [
    "# now we have arrived the point where we need to think about box gross and words \n",
    "tomato_movie.isna().sum()"
   ]
  },
  {
   "cell_type": "code",
   "execution_count": 20,
   "metadata": {},
   "outputs": [
    {
     "data": {
      "text/plain": [
       "$2.0M      5\n",
       "$1.2M      4\n",
       "$1.8M      3\n",
       "$1.3M      3\n",
       "$1.6M      3\n",
       "          ..\n",
       "$5.0M      1\n",
       "$162.8M    1\n",
       "$56.1M     1\n",
       "$5.8M      1\n",
       "$100.4M    1\n",
       "Name: us_gross_box, Length: 233, dtype: int64"
      ]
     },
     "execution_count": 20,
     "metadata": {},
     "output_type": "execute_result"
    }
   ],
   "source": [
    "# observe that this is all in string\n",
    "tomato_movie['us_gross_box'].value_counts()"
   ]
  },
  {
   "cell_type": "code",
   "execution_count": 21,
   "metadata": {},
   "outputs": [
    {
     "data": {
      "text/plain": [
       "{'', 'K', 'M'}"
      ]
     },
     "execution_count": 21,
     "metadata": {},
     "output_type": "execute_result"
    }
   ],
   "source": [
    "# which means we need to do some conversion. \n",
    "# and before we do that, lets check what units do we have\n",
    "unit_regex = re.compile(r'\\d*([a-zA-Z]*)$')\n",
    "set([unit_regex.search(item).group(1) for item in tomato_movie['us_gross_box'].unique() if isinstance(item, str)])"
   ]
  },
  {
   "cell_type": "code",
   "execution_count": 22,
   "metadata": {},
   "outputs": [],
   "source": [
    "from string import digits\n",
    "\n",
    "float_chars = digits + '.'"
   ]
  },
  {
   "cell_type": "code",
   "execution_count": 23,
   "metadata": {},
   "outputs": [],
   "source": [
    "# it appears that not only do we have thousands and millions, there are some without values\n",
    "# the ones without values might be errors during scrapign process\n",
    "multiply_dict = {'': 1, 'K': 1_000, 'M': 1_000_000}\n",
    "\n",
    "def convert_into_digits(value):\n",
    "    float_value = float(''.join([char for char in value if char in float_chars]))\n",
    "    return float_value * multiply_dict[unit_regex.search(value).group(1)]"
   ]
  },
  {
   "cell_type": "code",
   "execution_count": 24,
   "metadata": {},
   "outputs": [
    {
     "data": {
      "text/plain": [
       "dtype('float64')"
      ]
     },
     "execution_count": 24,
     "metadata": {},
     "output_type": "execute_result"
    }
   ],
   "source": [
    "# now we can convert everything into float \n",
    "tomato_movie['us_gross_box'] = tomato_movie['us_gross_box'].map(convert_into_digits, na_action='ignore')\n",
    "tomato_movie['us_gross_box'].dtype"
   ]
  },
  {
   "cell_type": "code",
   "execution_count": 25,
   "metadata": {},
   "outputs": [
    {
     "data": {
      "text/plain": [
       "<AxesSubplot:xlabel='rank', ylabel='us_gross_box'>"
      ]
     },
     "execution_count": 25,
     "metadata": {},
     "output_type": "execute_result"
    },
    {
     "data": {
      "image/png": "[encoded data removed]",
      "text/plain": [
       "<Figure size 432x288 with 1 Axes>"
      ]
     },
     "metadata": {
      "needs_background": "light"
     },
     "output_type": "display_data"
    }
   ],
   "source": [
    "# same logic here, we determined that it's best if we use median \n",
    "valid_tomato_movie = tomato_movie.loc[tomato_movie['us_gross_box'].notna()]\n",
    "sns.regplot(valid_tomato_movie['rank'], valid_tomato_movie['us_gross_box'], scatter_kws={'s':1})"
   ]
  },
  {
   "cell_type": "code",
   "execution_count": 26,
   "metadata": {},
   "outputs": [],
   "source": [
    "tomato_movie['us_gross_box'].fillna(value=tomato_movie['us_gross_box'].median(), inplace=True)"
   ]
  },
  {
   "cell_type": "code",
   "execution_count": 27,
   "metadata": {},
   "outputs": [],
   "source": [
    "# The only thing we can do about word is to use '' \n",
    "for word_num in range(1, 6): \n",
    "    tomato_movie[f'review_word_{word_num}'].fillna(value='', inplace=True)"
   ]
  },
  {
   "cell_type": "code",
   "execution_count": 28,
   "metadata": {},
   "outputs": [
    {
     "data": {
      "text/plain": [
       "rank             0\n",
       "title            0\n",
       "year             0\n",
       "genre            0\n",
       "user_rating      0\n",
       "rating_count     0\n",
       "us_gross_box     0\n",
       "review_word_1    0\n",
       "review_word_2    0\n",
       "review_word_3    0\n",
       "review_word_4    0\n",
       "review_word_5    0\n",
       "dtype: int64"
      ]
     },
     "execution_count": 28,
     "metadata": {},
     "output_type": "execute_result"
    }
   ],
   "source": [
    "# now that we have filed everything \n",
    "tomato_movie.isna().sum()"
   ]
  },
  {
   "cell_type": "markdown",
   "metadata": {},
   "source": [
    "### Align data types"
   ]
  },
  {
   "cell_type": "code",
   "execution_count": 29,
   "metadata": {},
   "outputs": [],
   "source": [
    "for col_name in imdb_movie.columns:\n",
    "    imdb_movie[col_name] = imdb_movie[col_name].astype(str)\n",
    "for col_name in tomato_movie.columns:\n",
    "    tomato_movie[col_name] = tomato_movie[col_name].astype(str)"
   ]
  },
  {
   "cell_type": "code",
   "execution_count": 30,
   "metadata": {},
   "outputs": [
    {
     "data": {
      "text/plain": [
       "rank             object\n",
       "title            object\n",
       "year             object\n",
       "genre            object\n",
       "rating_score     object\n",
       "rating_count     object\n",
       "box gross        object\n",
       "review_word_1    object\n",
       "review_word_2    object\n",
       "review_word_3    object\n",
       "review_word_4    object\n",
       "review_word_5    object\n",
       "dtype: object"
      ]
     },
     "execution_count": 30,
     "metadata": {},
     "output_type": "execute_result"
    }
   ],
   "source": [
    "imdb_movie.dtypes"
   ]
  },
  {
   "cell_type": "code",
   "execution_count": 31,
   "metadata": {},
   "outputs": [
    {
     "data": {
      "text/plain": [
       "rank             object\n",
       "title            object\n",
       "year             object\n",
       "genre            object\n",
       "user_rating      object\n",
       "rating_count     object\n",
       "us_gross_box     object\n",
       "review_word_1    object\n",
       "review_word_2    object\n",
       "review_word_3    object\n",
       "review_word_4    object\n",
       "review_word_5    object\n",
       "dtype: object"
      ]
     },
     "execution_count": 31,
     "metadata": {},
     "output_type": "execute_result"
    }
   ],
   "source": [
    "tomato_movie.dtypes"
   ]
  },
  {
   "cell_type": "markdown",
   "metadata": {},
   "source": [
    "----\n",
    "### Inspect dataset"
   ]
  },
  {
   "cell_type": "code",
   "execution_count": 32,
   "metadata": {},
   "outputs": [
    {
     "data": {
      "text/html": [
       "<div>\n",
       "<style scoped>\n",
       "    .dataframe tbody tr th:only-of-type {\n",
       "        vertical-align: middle;\n",
       "    }\n",
       "\n",
       "    .dataframe tbody tr th {\n",
       "        vertical-align: top;\n",
       "    }\n",
       "\n",
       "    .dataframe thead th {\n",
       "        text-align: right;\n",
       "    }\n",
       "</style>\n",
       "<table border=\"1\" class=\"dataframe\">\n",
       "  <thead>\n",
       "    <tr style=\"text-align: right;\">\n",
       "      <th></th>\n",
       "      <th>rank</th>\n",
       "      <th>title</th>\n",
       "      <th>year</th>\n",
       "      <th>genre</th>\n",
       "      <th>rating_score</th>\n",
       "      <th>rating_count</th>\n",
       "      <th>box gross</th>\n",
       "      <th>review_word_1</th>\n",
       "      <th>review_word_2</th>\n",
       "      <th>review_word_3</th>\n",
       "      <th>review_word_4</th>\n",
       "      <th>review_word_5</th>\n",
       "    </tr>\n",
       "  </thead>\n",
       "  <tbody>\n",
       "    <tr>\n",
       "      <th>0</th>\n",
       "      <td>1</td>\n",
       "      <td>The Shawshank Redemption</td>\n",
       "      <td>1994</td>\n",
       "      <td>Drama</td>\n",
       "      <td>9.3</td>\n",
       "      <td>2297303</td>\n",
       "      <td>28699976.0</td>\n",
       "      <td>shawshank</td>\n",
       "      <td>andy</td>\n",
       "      <td>prison</td>\n",
       "      <td>life</td>\n",
       "      <td>redemption</td>\n",
       "    </tr>\n",
       "    <tr>\n",
       "      <th>1</th>\n",
       "      <td>2</td>\n",
       "      <td>The Godfather</td>\n",
       "      <td>1972</td>\n",
       "      <td>Crime, Drama</td>\n",
       "      <td>9.2</td>\n",
       "      <td>1585716</td>\n",
       "      <td>134966411.0</td>\n",
       "      <td>godfather</td>\n",
       "      <td>ever</td>\n",
       "      <td>seen</td>\n",
       "      <td>vito</td>\n",
       "      <td>first</td>\n",
       "    </tr>\n",
       "    <tr>\n",
       "      <th>2</th>\n",
       "      <td>3</td>\n",
       "      <td>The Dark Knight</td>\n",
       "      <td>2008</td>\n",
       "      <td>Action, Crime, Drama</td>\n",
       "      <td>9.0</td>\n",
       "      <td>2261605</td>\n",
       "      <td>535234033.0</td>\n",
       "      <td>dark</td>\n",
       "      <td>helpful</td>\n",
       "      <td>confidently</td>\n",
       "      <td>directed</td>\n",
       "      <td>brooding</td>\n",
       "    </tr>\n",
       "    <tr>\n",
       "      <th>3</th>\n",
       "      <td>4</td>\n",
       "      <td>The Godfather: Part II</td>\n",
       "      <td>1974</td>\n",
       "      <td>Crime, Drama</td>\n",
       "      <td>9.0</td>\n",
       "      <td>1107765</td>\n",
       "      <td>47834595.0</td>\n",
       "      <td>michael</td>\n",
       "      <td>coppola</td>\n",
       "      <td>first</td>\n",
       "      <td>pacino</td>\n",
       "      <td>family</td>\n",
       "    </tr>\n",
       "    <tr>\n",
       "      <th>4</th>\n",
       "      <td>5</td>\n",
       "      <td>The Lord of the Rings: The Return of the King</td>\n",
       "      <td>2003</td>\n",
       "      <td>Action, Adventure, Drama</td>\n",
       "      <td>8.9</td>\n",
       "      <td>1615048</td>\n",
       "      <td>377845905.0</td>\n",
       "      <td>rings</td>\n",
       "      <td>still</td>\n",
       "      <td>back</td>\n",
       "      <td>best</td>\n",
       "      <td>helpful</td>\n",
       "    </tr>\n",
       "  </tbody>\n",
       "</table>\n",
       "</div>"
      ],
      "text/plain": [
       "  rank                                          title  year  \\\n",
       "0    1                       The Shawshank Redemption  1994   \n",
       "1    2                                  The Godfather  1972   \n",
       "2    3                                The Dark Knight  2008   \n",
       "3    4                         The Godfather: Part II  1974   \n",
       "4    5  The Lord of the Rings: The Return of the King  2003   \n",
       "\n",
       "                      genre rating_score rating_count    box gross  \\\n",
       "0                     Drama          9.3      2297303   28699976.0   \n",
       "1              Crime, Drama          9.2      1585716  134966411.0   \n",
       "2      Action, Crime, Drama          9.0      2261605  535234033.0   \n",
       "3              Crime, Drama          9.0      1107765   47834595.0   \n",
       "4  Action, Adventure, Drama          8.9      1615048  377845905.0   \n",
       "\n",
       "  review_word_1 review_word_2 review_word_3 review_word_4 review_word_5  \n",
       "0     shawshank          andy        prison          life    redemption  \n",
       "1     godfather          ever          seen          vito         first  \n",
       "2          dark       helpful   confidently      directed      brooding  \n",
       "3       michael       coppola         first        pacino        family  \n",
       "4         rings         still          back          best       helpful  "
      ]
     },
     "execution_count": 32,
     "metadata": {},
     "output_type": "execute_result"
    }
   ],
   "source": [
    "imdb_movie.head(5)"
   ]
  },
  {
   "cell_type": "code",
   "execution_count": 33,
   "metadata": {},
   "outputs": [
    {
     "data": {
      "text/html": [
       "<div>\n",
       "<style scoped>\n",
       "    .dataframe tbody tr th:only-of-type {\n",
       "        vertical-align: middle;\n",
       "    }\n",
       "\n",
       "    .dataframe tbody tr th {\n",
       "        vertical-align: top;\n",
       "    }\n",
       "\n",
       "    .dataframe thead th {\n",
       "        text-align: right;\n",
       "    }\n",
       "</style>\n",
       "<table border=\"1\" class=\"dataframe\">\n",
       "  <thead>\n",
       "    <tr style=\"text-align: right;\">\n",
       "      <th></th>\n",
       "      <th>rank</th>\n",
       "      <th>title</th>\n",
       "      <th>year</th>\n",
       "      <th>genre</th>\n",
       "      <th>user_rating</th>\n",
       "      <th>rating_count</th>\n",
       "      <th>us_gross_box</th>\n",
       "      <th>review_word_1</th>\n",
       "      <th>review_word_2</th>\n",
       "      <th>review_word_3</th>\n",
       "      <th>review_word_4</th>\n",
       "      <th>review_word_5</th>\n",
       "    </tr>\n",
       "  </thead>\n",
       "  <tbody>\n",
       "    <tr>\n",
       "      <th>0</th>\n",
       "      <td>1</td>\n",
       "      <td>The Shawshank Redemption</td>\n",
       "      <td>1994</td>\n",
       "      <td>drama</td>\n",
       "      <td>9.1</td>\n",
       "      <td>886475.0</td>\n",
       "      <td>27300000.0</td>\n",
       "      <td>time</td>\n",
       "      <td>story</td>\n",
       "      <td>best</td>\n",
       "      <td>ever</td>\n",
       "      <td>greatest</td>\n",
       "    </tr>\n",
       "    <tr>\n",
       "      <th>1</th>\n",
       "      <td>2</td>\n",
       "      <td>The Godfather</td>\n",
       "      <td>1972</td>\n",
       "      <td>crime, drama</td>\n",
       "      <td>9.8</td>\n",
       "      <td>733925.0</td>\n",
       "      <td>134800000.0</td>\n",
       "      <td>godfather</td>\n",
       "      <td>time</td>\n",
       "      <td>never</td>\n",
       "      <td>cinematography</td>\n",
       "      <td>great</td>\n",
       "    </tr>\n",
       "    <tr>\n",
       "      <th>2</th>\n",
       "      <td>3</td>\n",
       "      <td>The Dark Knight</td>\n",
       "      <td>2008</td>\n",
       "      <td>action, adventure, fantasy</td>\n",
       "      <td>9.399999999999999</td>\n",
       "      <td>1831566.0</td>\n",
       "      <td>2000000.0</td>\n",
       "      <td>best</td>\n",
       "      <td>batman</td>\n",
       "      <td>ledger</td>\n",
       "      <td>heath</td>\n",
       "      <td>joker</td>\n",
       "    </tr>\n",
       "    <tr>\n",
       "      <th>3</th>\n",
       "      <td>4</td>\n",
       "      <td>The Godfather: Part II</td>\n",
       "      <td>1974</td>\n",
       "      <td>crime, drama</td>\n",
       "      <td>9.8</td>\n",
       "      <td>411452.0</td>\n",
       "      <td>17700000.0</td>\n",
       "      <td>godfather</td>\n",
       "      <td>michael</td>\n",
       "      <td>part</td>\n",
       "      <td>first</td>\n",
       "      <td>sequel</td>\n",
       "    </tr>\n",
       "    <tr>\n",
       "      <th>4</th>\n",
       "      <td>5</td>\n",
       "      <td>The Lord of the Rings: The Return of the King</td>\n",
       "      <td>2003</td>\n",
       "      <td>adventure, fantasy</td>\n",
       "      <td>9.3</td>\n",
       "      <td>34679773.0</td>\n",
       "      <td>377800000.0</td>\n",
       "      <td>epic</td>\n",
       "      <td>trilogy</td>\n",
       "      <td>story</td>\n",
       "      <td>final</td>\n",
       "      <td>characters</td>\n",
       "    </tr>\n",
       "  </tbody>\n",
       "</table>\n",
       "</div>"
      ],
      "text/plain": [
       "  rank                                          title  year  \\\n",
       "0    1                       The Shawshank Redemption  1994   \n",
       "1    2                                  The Godfather  1972   \n",
       "2    3                                The Dark Knight  2008   \n",
       "3    4                         The Godfather: Part II  1974   \n",
       "4    5  The Lord of the Rings: The Return of the King  2003   \n",
       "\n",
       "                        genre        user_rating rating_count us_gross_box  \\\n",
       "0                       drama                9.1     886475.0   27300000.0   \n",
       "1                crime, drama                9.8     733925.0  134800000.0   \n",
       "2  action, adventure, fantasy  9.399999999999999    1831566.0    2000000.0   \n",
       "3                crime, drama                9.8     411452.0   17700000.0   \n",
       "4          adventure, fantasy                9.3   34679773.0  377800000.0   \n",
       "\n",
       "  review_word_1 review_word_2 review_word_3   review_word_4 review_word_5  \n",
       "0          time         story          best            ever      greatest  \n",
       "1     godfather          time         never  cinematography         great  \n",
       "2          best        batman        ledger           heath         joker  \n",
       "3     godfather       michael          part           first        sequel  \n",
       "4          epic       trilogy         story           final    characters  "
      ]
     },
     "execution_count": 33,
     "metadata": {},
     "output_type": "execute_result"
    }
   ],
   "source": [
    "tomato_movie.head(5)"
   ]
  },
  {
   "cell_type": "markdown",
   "metadata": {},
   "source": [
    "The column names reflect what the column contains\n",
    "    \n",
    "    - rating_score and user_rating are both crowd rating for movie \n",
    "    - box gross and us_gross_box are movie ticket sales in the US \n",
    "    - review_word 1-5 are top 5 words that occured in first 100 user reviews for each movie "
   ]
  },
  {
   "cell_type": "markdown",
   "metadata": {},
   "source": [
    "---\n",
    "## Schema matching"
   ]
  },
  {
   "cell_type": "code",
   "execution_count": 34,
   "metadata": {},
   "outputs": [],
   "source": [
    "def jaccard_score(list1, list2): \n",
    "    set1, set2 = set(list1), set(list2)\n",
    "    return round(len(set1.intersection(set2)) / len(set1.union(set2)), 2)\n",
    "\n",
    "def n_gram(query, n_length=3):\n",
    "    query = '$' * (n_length-1) + query + '$' * (n_length-1)\n",
    "    return [query[index-(n_length-1):index+1] for index in range(2, len(query))]\n",
    "\n",
    "def col_jaccard(column1, column2, n_length=3):\n",
    "    col2_n_gram = [n_gram(item, n_length) for item in column2.tolist()]\n",
    "    result = []\n",
    "    for col1_item in [n_gram(item, n_length) for item in column1.tolist()]:\n",
    "        max_instance_score = max([jaccard_score(col1_item, col2_item) for col2_item in col2_n_gram])\n",
    "        result.append(max_instance_score)\n",
    "    return round(np.mean(result), 2)"
   ]
  },
  {
   "cell_type": "markdown",
   "metadata": {},
   "source": [
    "### Instance matching"
   ]
  },
  {
   "cell_type": "code",
   "execution_count": 35,
   "metadata": {},
   "outputs": [
    {
     "name": "stdout",
     "output_type": "stream",
     "text": [
      "\n",
      "--------------------------------------------------\n",
      "result for n_length of 2\n",
      "mean instance Jaccard score rank vs. rank is: 0.83\n",
      "mean instance Jaccard score rank vs. year is: 0.42\n",
      "\n",
      "mean instance Jaccard score title vs. title is: 0.65\n",
      "mean instance Jaccard score title vs. review_word_1 is: 0.22\n",
      "\n",
      "mean instance Jaccard score year vs. year is: 0.99\n",
      "mean instance Jaccard score year vs. rank is: 0.61\n",
      "\n",
      "mean instance Jaccard score genre vs. genre is: 0.87\n",
      "mean instance Jaccard score genre vs. review_word_4 is: 0.33\n",
      "\n",
      "mean instance Jaccard score rating_score vs. user_rating is: 0.84\n",
      "mean instance Jaccard score rating_score vs. rank is: 0.32\n",
      "\n",
      "mean instance Jaccard score rating_count vs. rank is: 0.46\n",
      "mean instance Jaccard score rating_count vs. year is: 0.3\n",
      "\n",
      "mean instance Jaccard score box gross vs. rating_count is: 0.48\n",
      "mean instance Jaccard score box gross vs. us_gross_box is: 0.45\n",
      "\n",
      "mean instance Jaccard score review_word_1 vs. review_word_1 is: 0.54\n",
      "mean instance Jaccard score review_word_1 vs. review_word_2 is: 0.54\n",
      "\n",
      "mean instance Jaccard score review_word_2 vs. review_word_3 is: 0.53\n",
      "mean instance Jaccard score review_word_2 vs. review_word_5 is: 0.53\n",
      "\n",
      "mean instance Jaccard score review_word_3 vs. review_word_5 is: 0.52\n",
      "mean instance Jaccard score review_word_3 vs. review_word_2 is: 0.51\n",
      "\n",
      "mean instance Jaccard score review_word_4 vs. review_word_3 is: 0.51\n",
      "mean instance Jaccard score review_word_4 vs. review_word_4 is: 0.51\n",
      "\n",
      "mean instance Jaccard score review_word_5 vs. review_word_5 is: 0.53\n",
      "mean instance Jaccard score review_word_5 vs. review_word_4 is: 0.52\n",
      "\n",
      "\n",
      "--------------------------------------------------\n",
      "result for n_length of 3\n",
      "mean instance Jaccard score rank vs. rank is: 0.67\n",
      "mean instance Jaccard score rank vs. year is: 0.24\n",
      "\n",
      "mean instance Jaccard score title vs. title is: 0.62\n",
      "mean instance Jaccard score title vs. review_word_1 is: 0.14\n",
      "\n",
      "mean instance Jaccard score year vs. year is: 0.99\n",
      "mean instance Jaccard score year vs. rank is: 0.47\n",
      "\n",
      "mean instance Jaccard score genre vs. genre is: 0.85\n",
      "mean instance Jaccard score genre vs. review_word_4 is: 0.23\n",
      "\n",
      "mean instance Jaccard score rating_score vs. user_rating is: 0.78\n",
      "mean instance Jaccard score rating_score vs. rank is: 0.3\n",
      "\n",
      "mean instance Jaccard score rating_count vs. rank is: 0.33\n",
      "mean instance Jaccard score rating_count vs. year is: 0.2\n",
      "\n",
      "mean instance Jaccard score box gross vs. us_gross_box is: 0.36\n",
      "mean instance Jaccard score box gross vs. rating_count is: 0.35\n",
      "\n",
      "mean instance Jaccard score review_word_1 vs. review_word_1 is: 0.48\n",
      "mean instance Jaccard score review_word_1 vs. review_word_2 is: 0.47\n",
      "\n",
      "mean instance Jaccard score review_word_2 vs. review_word_3 is: 0.46\n",
      "mean instance Jaccard score review_word_2 vs. review_word_5 is: 0.46\n",
      "\n",
      "mean instance Jaccard score review_word_3 vs. review_word_5 is: 0.45\n",
      "mean instance Jaccard score review_word_3 vs. review_word_3 is: 0.44\n",
      "\n",
      "mean instance Jaccard score review_word_4 vs. review_word_3 is: 0.44\n",
      "mean instance Jaccard score review_word_4 vs. review_word_4 is: 0.44\n",
      "\n",
      "mean instance Jaccard score review_word_5 vs. review_word_4 is: 0.46\n",
      "mean instance Jaccard score review_word_5 vs. review_word_5 is: 0.46\n",
      "\n",
      "\n",
      "--------------------------------------------------\n",
      "result for n_length of 4\n",
      "mean instance Jaccard score rank vs. rank is: 0.67\n",
      "mean instance Jaccard score rank vs. year is: 0.26\n",
      "\n",
      "mean instance Jaccard score title vs. title is: 0.62\n",
      "mean instance Jaccard score title vs. review_word_2 is: 0.16\n",
      "\n",
      "mean instance Jaccard score year vs. year is: 0.99\n",
      "mean instance Jaccard score year vs. rank is: 0.42\n",
      "\n",
      "mean instance Jaccard score genre vs. genre is: 0.84\n",
      "mean instance Jaccard score genre vs. review_word_4 is: 0.23\n",
      "\n",
      "mean instance Jaccard score rating_score vs. user_rating is: 0.78\n",
      "mean instance Jaccard score rating_score vs. rank is: 0.3\n",
      "\n",
      "mean instance Jaccard score rating_count vs. rank is: 0.33\n",
      "mean instance Jaccard score rating_count vs. year is: 0.23\n",
      "\n",
      "mean instance Jaccard score box gross vs. rating_count is: 0.35\n",
      "mean instance Jaccard score box gross vs. us_gross_box is: 0.35\n",
      "\n",
      "mean instance Jaccard score review_word_1 vs. review_word_1 is: 0.5\n",
      "mean instance Jaccard score review_word_1 vs. review_word_2 is: 0.49\n",
      "\n",
      "mean instance Jaccard score review_word_2 vs. review_word_3 is: 0.47\n",
      "mean instance Jaccard score review_word_2 vs. review_word_5 is: 0.47\n",
      "\n",
      "mean instance Jaccard score review_word_3 vs. review_word_4 is: 0.46\n",
      "mean instance Jaccard score review_word_3 vs. review_word_5 is: 0.46\n",
      "\n",
      "mean instance Jaccard score review_word_4 vs. review_word_3 is: 0.45\n",
      "mean instance Jaccard score review_word_4 vs. review_word_4 is: 0.45\n",
      "\n",
      "mean instance Jaccard score review_word_5 vs. review_word_4 is: 0.47\n",
      "mean instance Jaccard score review_word_5 vs. review_word_5 is: 0.47\n",
      "\n"
     ]
    }
   ],
   "source": [
    "for n_length in [2,3,4]:\n",
    "    print(f'\\n{\"-\"*50}\\nresult for n_length of {n_length}')\n",
    "    for col_name in imdb_movie.columns:\n",
    "        score_list = [(col_name_2, col_jaccard(imdb_movie[col_name], tomato_movie[col_name_2], n_length)) for col_name_2 in tomato_movie.columns]\n",
    "        score_list.sort(key=lambda item: item[-1], reverse=True)\n",
    "        [print(f'mean instance Jaccard score {col_name} vs. {col_name_2} is: {score}') for col_name_2, score in score_list[:2]]\n",
    "        print()"
   ]
  },
  {
   "cell_type": "markdown",
   "metadata": {},
   "source": [
    "#### Explanations: \n",
    "    \n",
    "    - instance matching takes a long time, and produce mediocre result \n",
    "    - the overall complexity is O(c1 * c2 * r1 * r2 ), where c1, c2 are column numbers of table1 and table2; r1, r2 are row numbers of table1 and table2, respectively \n",
    "    - rank, title, year, genre, rating_score and review_word_1 can be matched using n_gram-jaccard score, but not the rest\n",
    "    - rating_score have relatively stable range (from 0 to 10), thus can be matched with n_gram jaccard \n",
    "    - rating_count are all integers, but all the values are unique from column to column and have a large range. Euclidean distance can better approximate distance beterrn numeric columns \n",
    "    - box gross can be matched to us_gross_box, but very unstable and only by a slight margin comapred to rating_count \n",
    "    - jaccard cannot confidently match box gross and us_gross_box, but Euclidean should be able to do that\n",
    "    - review_word 1-5 are strings values, and is suitable to use jaccard, however if we scrape 10k user reviews and count them, the result will be better on jaccard score comapre to score. Current sample size (100) is not large enough to stablize the word count results"
   ]
  },
  {
   "cell_type": "markdown",
   "metadata": {},
   "source": [
    "---\n",
    "### Name matching"
   ]
  },
  {
   "cell_type": "code",
   "execution_count": 36,
   "metadata": {},
   "outputs": [
    {
     "name": "stdout",
     "output_type": "stream",
     "text": [
      "Jaccard score rank vs. rank is: 1.0\n",
      "Jaccard score rank vs. rating_count is: 0.11\n",
      "\n",
      "Jaccard score title vs. title is: 1.0\n",
      "Jaccard score title vs. genre is: 0.08\n",
      "\n",
      "Jaccard score year vs. year is: 1.0\n",
      "Jaccard score year vs. rank is: 0.0\n",
      "\n",
      "Jaccard score genre vs. genre is: 1.0\n",
      "Jaccard score genre vs. title is: 0.08\n",
      "\n",
      "Jaccard score rating_score vs. rating_count is: 0.33\n",
      "Jaccard score rating_score vs. user_rating is: 0.17\n",
      "\n",
      "Jaccard score rating_count vs. rating_count is: 1.0\n",
      "Jaccard score rating_count vs. user_rating is: 0.17\n",
      "\n",
      "Jaccard score box gross vs. us_gross_box is: 0.19\n",
      "Jaccard score box gross vs. rank is: 0.0\n",
      "\n",
      "Jaccard score review_word_1 vs. review_word_1 is: 1.0\n",
      "Jaccard score review_word_1 vs. review_word_2 is: 0.67\n",
      "\n",
      "Jaccard score review_word_2 vs. review_word_2 is: 1.0\n",
      "Jaccard score review_word_2 vs. review_word_1 is: 0.67\n",
      "\n",
      "Jaccard score review_word_3 vs. review_word_3 is: 1.0\n",
      "Jaccard score review_word_3 vs. review_word_1 is: 0.67\n",
      "\n",
      "Jaccard score review_word_4 vs. review_word_4 is: 1.0\n",
      "Jaccard score review_word_4 vs. review_word_1 is: 0.67\n",
      "\n",
      "Jaccard score review_word_5 vs. review_word_5 is: 1.0\n",
      "Jaccard score review_word_5 vs. review_word_1 is: 0.67\n",
      "\n"
     ]
    }
   ],
   "source": [
    "for col_name1 in imdb_movie.columns:\n",
    "    score_list = [(col_name_2, jaccard_score(n_gram(col_name1), n_gram(col_name_2))) for col_name_2 in tomato_movie.columns]\n",
    "    score_list.sort(key=lambda item: item[-1], reverse=True)\n",
    "    [print(f'Jaccard score {col_name1} vs. {col_name_2} is: {score}') for col_name_2, score in score_list[:2]]\n",
    "    print()"
   ]
  },
  {
   "cell_type": "code",
   "execution_count": 37,
   "metadata": {},
   "outputs": [
    {
     "name": "stdout",
     "output_type": "stream",
     "text": [
      "Levenshtein score rank vs. rank is: 0\n",
      "Levenshtein score rank vs. year is: 4\n",
      "\n",
      "Levenshtein score title vs. title is: 0\n",
      "Levenshtein score title vs. genre is: 4\n",
      "\n",
      "Levenshtein score year vs. year is: 0\n",
      "Levenshtein score year vs. genre is: 3\n",
      "\n",
      "Levenshtein score genre vs. genre is: 0\n",
      "Levenshtein score genre vs. year is: 3\n",
      "\n",
      "Levenshtein score rating_score vs. rating_count is: 4\n",
      "Levenshtein score rating_score vs. rank is: 9\n",
      "\n",
      "Levenshtein score rating_count vs. rating_count is: 0\n",
      "Levenshtein score rating_count vs. rank is: 9\n",
      "\n",
      "Levenshtein score box gross vs. rank is: 8\n",
      "Levenshtein score box gross vs. year is: 8\n",
      "\n",
      "Levenshtein score review_word_1 vs. review_word_1 is: 0\n",
      "Levenshtein score review_word_1 vs. review_word_2 is: 1\n",
      "\n",
      "Levenshtein score review_word_2 vs. review_word_2 is: 0\n",
      "Levenshtein score review_word_2 vs. review_word_1 is: 1\n",
      "\n",
      "Levenshtein score review_word_3 vs. review_word_3 is: 0\n",
      "Levenshtein score review_word_3 vs. review_word_1 is: 1\n",
      "\n",
      "Levenshtein score review_word_4 vs. review_word_4 is: 0\n",
      "Levenshtein score review_word_4 vs. review_word_1 is: 1\n",
      "\n",
      "Levenshtein score review_word_5 vs. review_word_5 is: 0\n",
      "Levenshtein score review_word_5 vs. review_word_1 is: 1\n",
      "\n"
     ]
    }
   ],
   "source": [
    "for col_name1 in imdb_movie.columns:\n",
    "    score_list = [(col_name_2, Levenshtein.distance(col_name1, col_name_2)) for col_name_2 in tomato_movie.columns]\n",
    "    score_list.sort(key=lambda item: item[-1])\n",
    "    [print(f'Levenshtein score {col_name1} vs. {col_name_2} is: {score}') for col_name_2, score in score_list[:2]]\n",
    "    print()"
   ]
  },
  {
   "cell_type": "markdown",
   "metadata": {},
   "source": [
    "#### Explanations: \n",
    "\n",
    "    - rating_score vs user_rating, box gross vs us_gross_box are what we want to match \n",
    "    - observe that n_gram-jaccard performed slightly better compared to levenshtein. \n",
    "    - levenshtein only considers edit distance, where sematic meaning does not matter \n",
    "    - n_gram-jaccard at least account for same character pattern within words"
   ]
  },
  {
   "cell_type": "markdown",
   "metadata": {},
   "source": [
    "---\n",
    "# Part B: "
   ]
  },
  {
   "cell_type": "code",
   "execution_count": 38,
   "metadata": {},
   "outputs": [],
   "source": [
    "april_data = pd.read_csv('data/04-15-2020.csv')\n",
    "september_data = pd.read_csv('data/09-15-2020.csv')"
   ]
  },
  {
   "cell_type": "markdown",
   "metadata": {},
   "source": [
    "---\n",
    "## Inspect"
   ]
  },
  {
   "cell_type": "code",
   "execution_count": 39,
   "metadata": {},
   "outputs": [
    {
     "data": {
      "text/plain": [
       "(3026, 12)"
      ]
     },
     "execution_count": 39,
     "metadata": {},
     "output_type": "execute_result"
    }
   ],
   "source": [
    "april_data.shape"
   ]
  },
  {
   "cell_type": "code",
   "execution_count": 40,
   "metadata": {},
   "outputs": [
    {
     "data": {
      "text/plain": [
       "0"
      ]
     },
     "execution_count": 40,
     "metadata": {},
     "output_type": "execute_result"
    }
   ],
   "source": [
    "april_data.duplicated().sum()"
   ]
  },
  {
   "cell_type": "code",
   "execution_count": 41,
   "metadata": {},
   "outputs": [
    {
     "data": {
      "text/plain": [
       "(3954, 14)"
      ]
     },
     "execution_count": 41,
     "metadata": {},
     "output_type": "execute_result"
    }
   ],
   "source": [
    "september_data.shape"
   ]
  },
  {
   "cell_type": "code",
   "execution_count": 42,
   "metadata": {},
   "outputs": [
    {
     "data": {
      "text/plain": [
       "0"
      ]
     },
     "execution_count": 42,
     "metadata": {},
     "output_type": "execute_result"
    }
   ],
   "source": [
    "september_data.duplicated().sum()"
   ]
  },
  {
   "cell_type": "markdown",
   "metadata": {},
   "source": [
    "## FlexMatcher for third dataset"
   ]
  },
  {
   "cell_type": "code",
   "execution_count": 43,
   "metadata": {},
   "outputs": [],
   "source": [
    "time_series_data = pd.read_csv('data/time_series_covid19_confirmed_US.csv')"
   ]
  },
  {
   "cell_type": "code",
   "execution_count": 44,
   "metadata": {},
   "outputs": [
    {
     "data": {
      "text/html": [
       "<div>\n",
       "<style scoped>\n",
       "    .dataframe tbody tr th:only-of-type {\n",
       "        vertical-align: middle;\n",
       "    }\n",
       "\n",
       "    .dataframe tbody tr th {\n",
       "        vertical-align: top;\n",
       "    }\n",
       "\n",
       "    .dataframe thead th {\n",
       "        text-align: right;\n",
       "    }\n",
       "</style>\n",
       "<table border=\"1\" class=\"dataframe\">\n",
       "  <thead>\n",
       "    <tr style=\"text-align: right;\">\n",
       "      <th></th>\n",
       "      <th>UID</th>\n",
       "      <th>iso2</th>\n",
       "      <th>iso3</th>\n",
       "      <th>code3</th>\n",
       "      <th>FIPS</th>\n",
       "      <th>Admin2</th>\n",
       "      <th>Province_State</th>\n",
       "      <th>Country_Region</th>\n",
       "      <th>Lat</th>\n",
       "      <th>Long_</th>\n",
       "      <th>...</th>\n",
       "      <th>11/3/20</th>\n",
       "      <th>11/4/20</th>\n",
       "      <th>11/5/20</th>\n",
       "      <th>11/6/20</th>\n",
       "      <th>11/7/20</th>\n",
       "      <th>11/8/20</th>\n",
       "      <th>11/9/20</th>\n",
       "      <th>11/10/20</th>\n",
       "      <th>11/11/20</th>\n",
       "      <th>11/12/20</th>\n",
       "    </tr>\n",
       "  </thead>\n",
       "  <tbody>\n",
       "    <tr>\n",
       "      <th>0</th>\n",
       "      <td>84001001</td>\n",
       "      <td>US</td>\n",
       "      <td>USA</td>\n",
       "      <td>840</td>\n",
       "      <td>1001.0</td>\n",
       "      <td>Autauga</td>\n",
       "      <td>Alabama</td>\n",
       "      <td>US</td>\n",
       "      <td>32.539527</td>\n",
       "      <td>-86.644082</td>\n",
       "      <td>...</td>\n",
       "      <td>2197</td>\n",
       "      <td>2212</td>\n",
       "      <td>2230</td>\n",
       "      <td>2242</td>\n",
       "      <td>2267</td>\n",
       "      <td>2283</td>\n",
       "      <td>2304</td>\n",
       "      <td>2328</td>\n",
       "      <td>2351</td>\n",
       "      <td>2385</td>\n",
       "    </tr>\n",
       "    <tr>\n",
       "      <th>1</th>\n",
       "      <td>84001003</td>\n",
       "      <td>US</td>\n",
       "      <td>USA</td>\n",
       "      <td>840</td>\n",
       "      <td>1003.0</td>\n",
       "      <td>Baldwin</td>\n",
       "      <td>Alabama</td>\n",
       "      <td>US</td>\n",
       "      <td>30.727750</td>\n",
       "      <td>-87.722071</td>\n",
       "      <td>...</td>\n",
       "      <td>6995</td>\n",
       "      <td>7061</td>\n",
       "      <td>7097</td>\n",
       "      <td>7134</td>\n",
       "      <td>7188</td>\n",
       "      <td>7226</td>\n",
       "      <td>7263</td>\n",
       "      <td>7348</td>\n",
       "      <td>7409</td>\n",
       "      <td>7454</td>\n",
       "    </tr>\n",
       "  </tbody>\n",
       "</table>\n",
       "<p>2 rows × 307 columns</p>\n",
       "</div>"
      ],
      "text/plain": [
       "        UID iso2 iso3  code3    FIPS   Admin2 Province_State Country_Region  \\\n",
       "0  84001001   US  USA    840  1001.0  Autauga        Alabama             US   \n",
       "1  84001003   US  USA    840  1003.0  Baldwin        Alabama             US   \n",
       "\n",
       "         Lat      Long_  ... 11/3/20  11/4/20  11/5/20  11/6/20  11/7/20  \\\n",
       "0  32.539527 -86.644082  ...    2197     2212     2230     2242     2267   \n",
       "1  30.727750 -87.722071  ...    6995     7061     7097     7134     7188   \n",
       "\n",
       "   11/8/20  11/9/20  11/10/20  11/11/20  11/12/20  \n",
       "0     2283     2304      2328      2351      2385  \n",
       "1     7226     7263      7348      7409      7454  \n",
       "\n",
       "[2 rows x 307 columns]"
      ]
     },
     "execution_count": 44,
     "metadata": {},
     "output_type": "execute_result"
    }
   ],
   "source": [
    "time_series_data.head(2)"
   ]
  },
  {
   "cell_type": "markdown",
   "metadata": {},
   "source": [
    "---\n",
    "\n",
    "### Before we do anything, we need to fill NA and align data type"
   ]
  },
  {
   "cell_type": "code",
   "execution_count": 45,
   "metadata": {},
   "outputs": [
    {
     "data": {
      "text/plain": [
       "FIPS                   float64\n",
       "Admin2                  object\n",
       "Province_State          object\n",
       "Country_Region          object\n",
       "Last_Update             object\n",
       "Lat                    float64\n",
       "Long_                  float64\n",
       "Confirmed                int64\n",
       "Deaths                   int64\n",
       "Recovered                int64\n",
       "Active                 float64\n",
       "Combined_Key            object\n",
       "Incidence_Rate         float64\n",
       "Case-Fatality_Ratio    float64\n",
       "dtype: object"
      ]
     },
     "execution_count": 45,
     "metadata": {},
     "output_type": "execute_result"
    }
   ],
   "source": [
    "september_data.dtypes"
   ]
  },
  {
   "cell_type": "code",
   "execution_count": 46,
   "metadata": {},
   "outputs": [],
   "source": [
    "na_dict = {september_data['FIPS'].dtype: 0.00, september_data['Admin2'].dtype: '', september_data['Confirmed'].dtype: 0}\n",
    "\n",
    "for col_name in september_data.columns:\n",
    "    if col_name in april_data.columns: \n",
    "        april_data[col_name].fillna(value=na_dict[april_data[col_name].dtype], inplace=True)\n",
    "    if col_name in time_series_data.columns: \n",
    "        time_series_data[col_name].fillna(value=na_dict[time_series_data[col_name].dtype], inplace=True)\n",
    "    september_data[col_name].fillna(value=na_dict[september_data[col_name].dtype], inplace=True)"
   ]
  },
  {
   "cell_type": "code",
   "execution_count": 47,
   "metadata": {},
   "outputs": [
    {
     "data": {
      "text/plain": [
       "[]"
      ]
     },
     "execution_count": 47,
     "metadata": {},
     "output_type": "execute_result"
    }
   ],
   "source": [
    "[(col_name, na_count) for col_name, na_count in time_series_data.isna().sum().to_dict().items() if na_count]"
   ]
  },
  {
   "cell_type": "code",
   "execution_count": 48,
   "metadata": {},
   "outputs": [
    {
     "data": {
      "text/plain": [
       "array([0])"
      ]
     },
     "execution_count": 48,
     "metadata": {},
     "output_type": "execute_result"
    }
   ],
   "source": [
    "april_data.isna().sum().unique()"
   ]
  },
  {
   "cell_type": "code",
   "execution_count": 49,
   "metadata": {},
   "outputs": [
    {
     "data": {
      "text/plain": [
       "array([0])"
      ]
     },
     "execution_count": 49,
     "metadata": {},
     "output_type": "execute_result"
    }
   ],
   "source": [
    "september_data.isna().sum().unique()"
   ]
  },
  {
   "cell_type": "code",
   "execution_count": 50,
   "metadata": {},
   "outputs": [],
   "source": [
    "september_data = september_data.astype(str)\n",
    "april_data = april_data.astype(str)\n",
    "time_series_data = time_series_data.astype(str)"
   ]
  },
  {
   "cell_type": "markdown",
   "metadata": {},
   "source": [
    "### Now we can start matching "
   ]
  },
  {
   "cell_type": "code",
   "execution_count": 51,
   "metadata": {},
   "outputs": [],
   "source": [
    "unknown_name_data = time_series_data.copy() \n",
    "unknown_name_data.columns = [str(item) for item in range(time_series_data.shape[1])]"
   ]
  },
  {
   "cell_type": "code",
   "execution_count": 52,
   "metadata": {},
   "outputs": [
    {
     "data": {
      "text/html": [
       "<div>\n",
       "<style scoped>\n",
       "    .dataframe tbody tr th:only-of-type {\n",
       "        vertical-align: middle;\n",
       "    }\n",
       "\n",
       "    .dataframe tbody tr th {\n",
       "        vertical-align: top;\n",
       "    }\n",
       "\n",
       "    .dataframe thead th {\n",
       "        text-align: right;\n",
       "    }\n",
       "</style>\n",
       "<table border=\"1\" class=\"dataframe\">\n",
       "  <thead>\n",
       "    <tr style=\"text-align: right;\">\n",
       "      <th></th>\n",
       "      <th>0</th>\n",
       "      <th>1</th>\n",
       "      <th>2</th>\n",
       "      <th>3</th>\n",
       "      <th>4</th>\n",
       "      <th>5</th>\n",
       "      <th>6</th>\n",
       "      <th>7</th>\n",
       "      <th>8</th>\n",
       "      <th>9</th>\n",
       "      <th>...</th>\n",
       "      <th>297</th>\n",
       "      <th>298</th>\n",
       "      <th>299</th>\n",
       "      <th>300</th>\n",
       "      <th>301</th>\n",
       "      <th>302</th>\n",
       "      <th>303</th>\n",
       "      <th>304</th>\n",
       "      <th>305</th>\n",
       "      <th>306</th>\n",
       "    </tr>\n",
       "  </thead>\n",
       "  <tbody>\n",
       "    <tr>\n",
       "      <th>0</th>\n",
       "      <td>84001001</td>\n",
       "      <td>US</td>\n",
       "      <td>USA</td>\n",
       "      <td>840</td>\n",
       "      <td>1001.0</td>\n",
       "      <td>Autauga</td>\n",
       "      <td>Alabama</td>\n",
       "      <td>US</td>\n",
       "      <td>32.53952745</td>\n",
       "      <td>-86.64408227</td>\n",
       "      <td>...</td>\n",
       "      <td>2197</td>\n",
       "      <td>2212</td>\n",
       "      <td>2230</td>\n",
       "      <td>2242</td>\n",
       "      <td>2267</td>\n",
       "      <td>2283</td>\n",
       "      <td>2304</td>\n",
       "      <td>2328</td>\n",
       "      <td>2351</td>\n",
       "      <td>2385</td>\n",
       "    </tr>\n",
       "    <tr>\n",
       "      <th>1</th>\n",
       "      <td>84001003</td>\n",
       "      <td>US</td>\n",
       "      <td>USA</td>\n",
       "      <td>840</td>\n",
       "      <td>1003.0</td>\n",
       "      <td>Baldwin</td>\n",
       "      <td>Alabama</td>\n",
       "      <td>US</td>\n",
       "      <td>30.72774991</td>\n",
       "      <td>-87.72207058</td>\n",
       "      <td>...</td>\n",
       "      <td>6995</td>\n",
       "      <td>7061</td>\n",
       "      <td>7097</td>\n",
       "      <td>7134</td>\n",
       "      <td>7188</td>\n",
       "      <td>7226</td>\n",
       "      <td>7263</td>\n",
       "      <td>7348</td>\n",
       "      <td>7409</td>\n",
       "      <td>7454</td>\n",
       "    </tr>\n",
       "  </tbody>\n",
       "</table>\n",
       "<p>2 rows × 307 columns</p>\n",
       "</div>"
      ],
      "text/plain": [
       "          0   1    2    3       4        5        6   7            8  \\\n",
       "0  84001001  US  USA  840  1001.0  Autauga  Alabama  US  32.53952745   \n",
       "1  84001003  US  USA  840  1003.0  Baldwin  Alabama  US  30.72774991   \n",
       "\n",
       "              9  ...   297   298   299   300   301   302   303   304   305  \\\n",
       "0  -86.64408227  ...  2197  2212  2230  2242  2267  2283  2304  2328  2351   \n",
       "1  -87.72207058  ...  6995  7061  7097  7134  7188  7226  7263  7348  7409   \n",
       "\n",
       "    306  \n",
       "0  2385  \n",
       "1  7454  \n",
       "\n",
       "[2 rows x 307 columns]"
      ]
     },
     "execution_count": 52,
     "metadata": {},
     "output_type": "execute_result"
    }
   ],
   "source": [
    "unknown_name_data.head(2)"
   ]
  },
  {
   "cell_type": "markdown",
   "metadata": {},
   "source": [
    "---\n",
    "recall that april_data and september_data have different column size, but some of them are identical\n",
    "\n",
    "we can use that directly without introducing new name "
   ]
  },
  {
   "cell_type": "code",
   "execution_count": 53,
   "metadata": {},
   "outputs": [],
   "source": [
    "april_col_mapping = {item1: item2 for item1, item2 in zip(april_data.columns, september_data.columns)}\n",
    "sep_col_mapping = april_col_mapping.copy()\n",
    "sep_col_mapping['Incidence_Rate'] = 'Incidence_Rate'\n",
    "sep_col_mapping['Case-Fatality_Ratio'] = 'Case-Fatality_Ratio'"
   ]
  },
  {
   "cell_type": "code",
   "execution_count": 54,
   "metadata": {},
   "outputs": [
    {
     "data": {
      "text/plain": [
       "{'FIPS': 'FIPS',\n",
       " 'Admin2': 'Admin2',\n",
       " 'Province_State': 'Province_State',\n",
       " 'Country_Region': 'Country_Region',\n",
       " 'Last_Update': 'Last_Update',\n",
       " 'Lat': 'Lat',\n",
       " 'Long_': 'Long_',\n",
       " 'Confirmed': 'Confirmed',\n",
       " 'Deaths': 'Deaths',\n",
       " 'Recovered': 'Recovered',\n",
       " 'Active': 'Active',\n",
       " 'Combined_Key': 'Combined_Key'}"
      ]
     },
     "execution_count": 54,
     "metadata": {},
     "output_type": "execute_result"
    }
   ],
   "source": [
    "april_col_mapping"
   ]
  },
  {
   "cell_type": "code",
   "execution_count": 55,
   "metadata": {},
   "outputs": [
    {
     "data": {
      "text/plain": [
       "{'FIPS': 'FIPS',\n",
       " 'Admin2': 'Admin2',\n",
       " 'Province_State': 'Province_State',\n",
       " 'Country_Region': 'Country_Region',\n",
       " 'Last_Update': 'Last_Update',\n",
       " 'Lat': 'Lat',\n",
       " 'Long_': 'Long_',\n",
       " 'Confirmed': 'Confirmed',\n",
       " 'Deaths': 'Deaths',\n",
       " 'Recovered': 'Recovered',\n",
       " 'Active': 'Active',\n",
       " 'Combined_Key': 'Combined_Key',\n",
       " 'Incidence_Rate': 'Incidence_Rate',\n",
       " 'Case-Fatality_Ratio': 'Case-Fatality_Ratio'}"
      ]
     },
     "execution_count": 55,
     "metadata": {},
     "output_type": "execute_result"
    }
   ],
   "source": [
    "sep_col_mapping"
   ]
  },
  {
   "cell_type": "code",
   "execution_count": 56,
   "metadata": {},
   "outputs": [
    {
     "name": "stdout",
     "output_type": "stream",
     "text": [
      "Create training data ...\n",
      "Training FlexMatcher ...\n",
      "Training Completed ...\n"
     ]
    }
   ],
   "source": [
    "col_mappings = [april_col_mapping, sep_col_mapping]\n",
    "datasets = [april_data, september_data]\n",
    "\n",
    "matcher = flexmatcher.FlexMatcher(datasets, col_mappings, sample_size=1000)\n",
    "matcher.train()"
   ]
  },
  {
   "cell_type": "code",
   "execution_count": 57,
   "metadata": {},
   "outputs": [],
   "source": [
    "test_data = time_series_data.copy(deep=True)\n",
    "test_data.columns = list(range(test_data.shape[1]))"
   ]
  },
  {
   "cell_type": "code",
   "execution_count": 58,
   "metadata": {},
   "outputs": [
    {
     "data": {
      "text/plain": [
       "{0: 'Case-Fatality_Ratio',\n",
       " 2: 'Incidence_Rate',\n",
       " 3: 'Confirmed',\n",
       " 4: 'FIPS',\n",
       " 5: 'Admin2',\n",
       " 6: 'Province_State',\n",
       " 7: 'Country_Region',\n",
       " 8: 'Lat',\n",
       " 9: 'Long_',\n",
       " 10: 'Combined_Key',\n",
       " 11: 'Recovered',\n",
       " 79: 'Deaths',\n",
       " 105: 'Active',\n",
       " 247: 'Last_Update'}"
      ]
     },
     "execution_count": 58,
     "metadata": {},
     "output_type": "execute_result"
    }
   ],
   "source": [
    "predicted_mapping = matcher.make_prediction(test_data)\n",
    "predicted_mapping "
   ]
  },
  {
   "cell_type": "code",
   "execution_count": 59,
   "metadata": {},
   "outputs": [
    {
     "data": {
      "text/plain": [
       "{'UID': 'Case-Fatality_Ratio',\n",
       " 'iso3': 'Incidence_Rate',\n",
       " 'code3': 'Confirmed',\n",
       " 'FIPS': 'FIPS',\n",
       " 'Admin2': 'Admin2',\n",
       " 'Province_State': 'Province_State',\n",
       " 'Country_Region': 'Country_Region',\n",
       " 'Lat': 'Lat',\n",
       " 'Long_': 'Long_',\n",
       " 'Combined_Key': 'Combined_Key',\n",
       " '1/22/20': 'Recovered',\n",
       " '3/30/20': 'Deaths',\n",
       " '4/25/20': 'Active',\n",
       " '9/14/20': 'Last_Update'}"
      ]
     },
     "execution_count": 59,
     "metadata": {},
     "output_type": "execute_result"
    }
   ],
   "source": [
    "# convert the numeric column name back into the actual column name \n",
    "{time_series_data.columns[key]: value for key, value in predicted_mapping.items()}"
   ]
  },
  {
   "cell_type": "code",
   "execution_count": 60,
   "metadata": {},
   "outputs": [
    {
     "data": {
      "text/plain": [
       "{'UID': 'Case-Fatality_Ratio',\n",
       " 'iso3': 'Incidence_Rate',\n",
       " 'code3': 'Confirmed',\n",
       " 'FIPS': 'FIPS',\n",
       " 'Admin2': 'Admin2',\n",
       " 'Province_State': 'Province_State',\n",
       " 'Country_Region': 'Country_Region',\n",
       " 'Lat': 'Lat',\n",
       " 'Long_': 'Long_',\n",
       " 'Combined_Key': 'Combined_Key',\n",
       " '1/22/20': 'Recovered',\n",
       " '3/26/20': 'Deaths',\n",
       " '4/26/20': 'Active',\n",
       " '9/23/20': 'Last_Update'}"
      ]
     },
     "execution_count": 60,
     "metadata": {},
     "output_type": "execute_result"
    }
   ],
   "source": [
    "matcher.make_prediction(time_series_data)"
   ]
  },
  {
   "cell_type": "code",
   "execution_count": 61,
   "metadata": {},
   "outputs": [
    {
     "data": {
      "text/plain": [
       "{'UID': 'Case-Fatality_Ratio',\n",
       " 'iso3': 'Incidence_Rate',\n",
       " 'code3': 'Confirmed',\n",
       " 'FIPS': 'FIPS',\n",
       " 'Admin2': 'Admin2',\n",
       " 'Province_State': 'Province_State',\n",
       " 'Country_Region': 'Country_Region',\n",
       " 'Lat': 'Lat',\n",
       " 'Long_': 'Long_',\n",
       " 'Combined_Key': 'Combined_Key',\n",
       " '1/22/20': 'Recovered',\n",
       " '4/1/20': 'Deaths',\n",
       " '4/30/20': 'Active',\n",
       " '8/28/20': 'Last_Update'}"
      ]
     },
     "execution_count": 61,
     "metadata": {},
     "output_type": "execute_result"
    }
   ],
   "source": [
    "matcher.make_prediction(time_series_data)"
   ]
  },
  {
   "cell_type": "markdown",
   "metadata": {},
   "source": [
    "### Result Interpretation \n",
    "\n",
    "There are several notable observations: \n",
    "\n",
    "1. the prediction of some columns are very accurate, especially when string values overlap significantly. This is expected as instance matching is a part of the process \n",
    "2. when instances are all integer values from a limited range, it is difficult for FlexMatcher to accurately predict the correct mapping \n",
    "3. the length of the predicted_mapping does not match the amount of columns in test_data. \n",
    "5. observe that all the values in prediction result are unique column names from original training dataset.\n",
    "4. the included keys in predicted_mapping varies from prediction to prediction. This is of utmost confusion for me when examining the prediction result. \n",
    "\n",
    "It is unclear why 3, 4 and 5 is observed. I tried to examine the source code to determine the reason of such behavior. the result is inconclusive, the predicted_mapping are constructed by iterating the column names of target_DF. All the column names should be included regardless of whether the prediciton result is accurate or not. Also, the uniqueness of the values in predicted_mapping should not be the reason such behavior exists. As discussed, unique column names are being used as key in dictionary and therefore should all exists. \n",
    "\n",
    "I am running Jupyterlab in python3.6 in WSL2 Ubuntu. However a bizzard behavior like this is unlikely to be caused by platorm incompatibility. "
   ]
  },
  {
   "cell_type": "code",
   "execution_count": null,
   "metadata": {},
   "outputs": [],
   "source": []
  }
 ],
 "metadata": {
  "kernelspec": {
   "display_name": "Python 3",
   "language": "python",
   "name": "python3"
  },
  "language_info": {
   "codemirror_mode": {
    "name": "ipython",
    "version": 3
   },
   "file_extension": ".py",
   "mimetype": "text/x-python",
   "name": "python",
   "nbconvert_exporter": "python",
   "pygments_lexer": "ipython3",
   "version": "3.6.9"
  }
 },
 "nbformat": 4,
 "nbformat_minor": 4
}
