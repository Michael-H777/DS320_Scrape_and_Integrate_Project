{
 "cells": [
  {
   "cell_type": "code",
   "execution_count": 1,
   "metadata": {},
   "outputs": [],
   "source": [
    "import os \n",
    "import re \n",
    "\n",
    "import requests \n",
    "from bs4 import BeautifulSoup as bsoup "
   ]
  },
  {
   "cell_type": "code",
   "execution_count": 2,
   "metadata": {},
   "outputs": [],
   "source": [
    "master_url = 'https://www.imdb.com'\n",
    "rank_url = 'https://www.imdb.com/list/ls072933289/?sort=list_order,asc&st_dt=&mode=detail&page={}'"
   ]
  },
  {
   "cell_type": "code",
   "execution_count": 3,
   "metadata": {},
   "outputs": [],
   "source": [
    "movie_rank_soup = bsoup(requests.get(rank_url.format('1')).text, 'html.parser')\n",
    "result = movie_rank_soup.find_all(class_='lister-item mode-detail')\n",
    "partial_title_url = re.compile('/title/.*/$')"
   ]
  },
  {
   "cell_type": "code",
   "execution_count": 4,
   "metadata": {},
   "outputs": [
    {
     "data": {
      "text/plain": [
       "[<a href=\"/title/tt0068646/\"> <img alt=\"The Godfather\" class=\"loadlate\" data-tconst=\"tt0068646\" height=\"209\" loadlate=\"https://m.media-amazon.com/images/M/MV5BM2MyNjYxNmUtYTAwNi00MTYxLWJmNWYtYzZlODY3ZTk3OTFlXkEyXkFqcGdeQXVyNzkwMjQ5NzM@._V1_UY209_CR3,0,140,209_AL_.jpg\" src=\"https://m.media-amazon.com/images/G/01/imdb/images/nopicture/large/film-184890147._CB466725069_.png\" width=\"140\"/>\n",
       " </a>,\n",
       " <a href=\"/title/tt0068646/\">The Godfather</a>]"
      ]
     },
     "execution_count": 4,
     "metadata": {},
     "output_type": "execute_result"
    }
   ],
   "source": [
    "result[0].find_all('a', attrs={'href': partial_title_url})"
   ]
  },
  {
   "cell_type": "code",
   "execution_count": 5,
   "metadata": {},
   "outputs": [
    {
     "name": "stdout",
     "output_type": "stream",
     "text": [
      "/title/tt0068646/\n"
     ]
    }
   ],
   "source": [
    "temp = result[0].find_all('a', attrs={'href': partial_title_url})[1].attrs['href']\n",
    "print(temp)"
   ]
  },
  {
   "cell_type": "code",
   "execution_count": 6,
   "metadata": {},
   "outputs": [
    {
     "name": "stdout",
     "output_type": "stream",
     "text": [
      "The Godfather\n",
      "The Shawshank Redemption\n",
      "Seven Samurai\n",
      "City of God\n",
      "The Godfather: Part II\n",
      "Pulp Fiction\n",
      "12 Angry Men\n",
      "One Flew Over the Cuckoo's Nest\n",
      "The Lord of the Rings: The Return of the King\n",
      "Schindler's List\n"
     ]
    }
   ],
   "source": [
    "for item in result[:10]: \n",
    "    temp1 = item.find_all('a', attrs={'href': partial_title_url})\n",
    "    print(temp1[1].text)"
   ]
  },
  {
   "cell_type": "markdown",
   "metadata": {},
   "source": [
    "---"
   ]
  },
  {
   "cell_type": "code",
   "execution_count": 74,
   "metadata": {},
   "outputs": [],
   "source": [
    "item_url_imbd = f'{master_url}{temp}'"
   ]
  },
  {
   "cell_type": "code",
   "execution_count": 100,
   "metadata": {},
   "outputs": [
    {
     "data": {
      "text/plain": [
       "'https://www.imdb.com/title/tt0068646/'"
      ]
     },
     "execution_count": 100,
     "metadata": {},
     "output_type": "execute_result"
    }
   ],
   "source": [
    "item_url_imbd"
   ]
  },
  {
   "cell_type": "code",
   "execution_count": 75,
   "metadata": {},
   "outputs": [],
   "source": [
    "item_soup_imbd = bsoup(requests.get(item_url_imbd).text, 'html.parser')"
   ]
  },
  {
   "cell_type": "code",
   "execution_count": 85,
   "metadata": {},
   "outputs": [],
   "source": [
    "title_regex = re.compile(u'^(.*)\\xa0')"
   ]
  },
  {
   "cell_type": "code",
   "execution_count": 87,
   "metadata": {},
   "outputs": [
    {
     "data": {
      "text/plain": [
       "'The Godfather'"
      ]
     },
     "execution_count": 87,
     "metadata": {},
     "output_type": "execute_result"
    }
   ],
   "source": [
    "title_regex.search(item_soup_imbd.find('h1').text).group(1)"
   ]
  },
  {
   "cell_type": "code",
   "execution_count": 89,
   "metadata": {},
   "outputs": [
    {
     "data": {
      "text/plain": [
       "'The Godfather\\xa0(1972) '"
      ]
     },
     "execution_count": 89,
     "metadata": {},
     "output_type": "execute_result"
    }
   ],
   "source": [
    "info_block.find('h1').text"
   ]
  },
  {
   "cell_type": "code",
   "execution_count": 81,
   "metadata": {},
   "outputs": [
    {
     "data": {
      "text/plain": [
       "<span itemprop=\"ratingValue\">9.2</span>"
      ]
     },
     "execution_count": 81,
     "metadata": {},
     "output_type": "execute_result"
    }
   ],
   "source": [
    "item_soup_imbd.find('span', attrs={'itemprop': 'ratingValue'})"
   ]
  },
  {
   "cell_type": "code",
   "execution_count": 77,
   "metadata": {},
   "outputs": [
    {
     "data": {
      "text/plain": [
       "<span class=\"small\" itemprop=\"ratingCount\">1,583,829</span>"
      ]
     },
     "execution_count": 77,
     "metadata": {},
     "output_type": "execute_result"
    }
   ],
   "source": [
    "item_soup_imbd.find('span', attrs={'itemprop': 'ratingCount'})"
   ]
  },
  {
   "cell_type": "code",
   "execution_count": 78,
   "metadata": {},
   "outputs": [],
   "source": [
    "info_block = item_soup_imbd.find(attrs={'class': 'title_wrapper'})"
   ]
  },
  {
   "cell_type": "code",
   "execution_count": 79,
   "metadata": {},
   "outputs": [
    {
     "data": {
      "text/plain": [
       "<div class=\"title_wrapper\">\n",
       "<h1 class=\"\">The Godfather <span id=\"titleYear\">(<a href=\"/year/1972/\">1972</a>)</span> </h1>\n",
       "<div class=\"subtext\">\n",
       "                    R\n",
       "    <span class=\"ghost\">|</span> <time datetime=\"PT175M\">\n",
       "                        2h 55min\n",
       "                    </time>\n",
       "<span class=\"ghost\">|</span>\n",
       "<a href=\"/search/title?genres=crime&amp;explore=title_type,genres\">Crime</a>, \n",
       "<a href=\"/search/title?genres=drama&amp;explore=title_type,genres\">Drama</a>\n",
       "<span class=\"ghost\">|</span>\n",
       "<a href=\"/title/tt0068646/releaseinfo\" title=\"See more release dates\">24 March 1972 (USA)\n",
       "</a> </div>\n",
       "</div>"
      ]
     },
     "execution_count": 79,
     "metadata": {},
     "output_type": "execute_result"
    }
   ],
   "source": [
    "info_block"
   ]
  },
  {
   "cell_type": "code",
   "execution_count": 19,
   "metadata": {},
   "outputs": [
    {
     "data": {
      "text/plain": [
       "['1972', 'Crime', 'Drama', '24 March 1972 (USA)\\n']"
      ]
     },
     "execution_count": 19,
     "metadata": {},
     "output_type": "execute_result"
    }
   ],
   "source": [
    "[item.text for item in lv1.find_all('a')]"
   ]
  },
  {
   "cell_type": "code",
   "execution_count": 91,
   "metadata": {},
   "outputs": [
    {
     "name": "stdout",
     "output_type": "stream",
     "text": [
      "$6,000,000\n",
      "Gross USA: $134,966,411        \n"
     ]
    }
   ],
   "source": [
    "for item in item_soup_imbd.find_all(class_='txt-block'):\n",
    "    if 'Budget' in str(item):\n",
    "        print(re.search('Budget:(.*)', item.text).group(1))\n",
    "    if 'Gross USA' in str(item):\n",
    "        print(re.search('(Gross.*:.*)', item.text).group(1))\n",
    "        break"
   ]
  },
  {
   "cell_type": "code",
   "execution_count": 95,
   "metadata": {},
   "outputs": [
    {
     "data": {
      "text/plain": [
       "'134,966,411        '"
      ]
     },
     "execution_count": 95,
     "metadata": {},
     "output_type": "execute_result"
    }
   ],
   "source": [
    "re.search('Gross USA.*\\$(.*)', item.text).group(1)"
   ]
  },
  {
   "cell_type": "code",
   "execution_count": 54,
   "metadata": {},
   "outputs": [],
   "source": [
    "review_block = item_soup_imbd.find(class_='user-comments')"
   ]
  },
  {
   "cell_type": "code",
   "execution_count": 107,
   "metadata": {},
   "outputs": [
    {
     "data": {
      "text/plain": [
       "<div class=\"user-comments\">\n",
       "<div class=\"tinystarbar\" title=\"10/10\">\n",
       "<div style=\"width: 100px;\"> </div>\n",
       "</div>\n",
       "<span>\n",
       "<strong>The greatest movie of all time!</strong>\n",
       "<div class=\"comment-meta\">\n",
       "                        23 February 2020 | by <a href=\"/user/ur87850731/\"><span>MR_Heraclius</span></a>\n",
       "                        – <a href=\"/user/ur87850731/comments\">See all my reviews</a>\n",
       "</div>\n",
       "<div>\n",
       "<p>One of the best films of all time, an absolute masterpiece. The Godfather is arguably the best gangster drama as well as setting the standard for cinema.</p>\n",
       "</div>\n",
       "</span>\n",
       "<hr/>\n",
       "<div class=\"yn\" id=\"ynd_rw5505349\">\n",
       "                107 of 124 people found this review helpful. \n",
       "                Was this review helpful to you?\n",
       "\n",
       "                    <button class=\"btn small\" name=\"ynb_rw5505349_yes\" onclick=\"CS.TMD.user_review_vote('rw5505349', 'tt0068646', 'yes', 'true');\" value=\"Yes\">Yes</button>\n",
       "<button class=\"btn small\" name=\"ynb_rw5505349_no\" onclick=\"CS.TMD.user_review_vote('rw5505349', 'tt0068646', 'no', 'true');\" value=\"No\">No</button>\n",
       "                        | <a href=\"/registration/signin?u=/title/tt0068646/\" onclick=\"imdb.contribution.clickHandler(event)\">Report this</a>\n",
       "</div>\n",
       "<a href=\"/registration/signin?u=/title/tt0068646/\" onclick=\"imdb.contribution.clickHandler(event)\">Review this title</a>\n",
       "<span>|</span>\n",
       "<a href=\"/title/tt0068646/reviews\">See all 4,038 user reviews</a> »\n",
       "        </div>"
      ]
     },
     "execution_count": 107,
     "metadata": {},
     "output_type": "execute_result"
    }
   ],
   "source": [
    "review_block"
   ]
  },
  {
   "cell_type": "code",
   "execution_count": 106,
   "metadata": {},
   "outputs": [
    {
     "data": {
      "text/plain": [
       "'/title/tt0068646/reviews'"
      ]
     },
     "execution_count": 106,
     "metadata": {},
     "output_type": "execute_result"
    }
   ],
   "source": [
    "review_link_regex = re.compile('.*reviews')\n",
    "temp = review_block.find('a', {'href': review_link_regex}).attrs['href']\n",
    "temp"
   ]
  },
  {
   "cell_type": "code",
   "execution_count": 109,
   "metadata": {},
   "outputs": [
    {
     "data": {
      "text/plain": [
       "'https://www.imdb.com/title/tt0068646/reviews'"
      ]
     },
     "execution_count": 109,
     "metadata": {},
     "output_type": "execute_result"
    }
   ],
   "source": [
    "f'https://www.imdb.com{temp}'"
   ]
  },
  {
   "cell_type": "code",
   "execution_count": null,
   "metadata": {},
   "outputs": [],
   "source": []
  },
  {
   "cell_type": "code",
   "execution_count": 110,
   "metadata": {},
   "outputs": [],
   "source": [
    "from collections import Counter"
   ]
  },
  {
   "cell_type": "code",
   "execution_count": 111,
   "metadata": {},
   "outputs": [],
   "source": [
    "temp = Counter('ftgvbyhjnkm')"
   ]
  },
  {
   "cell_type": "code",
   "execution_count": 114,
   "metadata": {},
   "outputs": [],
   "source": [
    "temp = temp.items()"
   ]
  },
  {
   "cell_type": "code",
   "execution_count": 117,
   "metadata": {},
   "outputs": [
    {
     "data": {
      "text/plain": [
       "[('f', 1), ('t', 1), ('g', 1), ('v', 1), ('b', 1)]"
      ]
     },
     "execution_count": 117,
     "metadata": {},
     "output_type": "execute_result"
    }
   ],
   "source": [
    "list(temp)[:5]"
   ]
  },
  {
   "cell_type": "code",
   "execution_count": null,
   "metadata": {},
   "outputs": [],
   "source": []
  },
  {
   "cell_type": "code",
   "execution_count": 118,
   "metadata": {},
   "outputs": [],
   "source": [
    "import os "
   ]
  },
  {
   "cell_type": "code",
   "execution_count": 120,
   "metadata": {},
   "outputs": [
    {
     "data": {
      "text/plain": [
       "['main.py',\n",
       " 'Proposal.docx',\n",
       " 'scrape_imbd.py',\n",
       " 'README.md',\n",
       " 'scrape_tomato.py',\n",
       " 'report_progress.py',\n",
       " 'Phase1.ipynb',\n",
       " '.ipynb_checkpoints',\n",
       " '.git']"
      ]
     },
     "execution_count": 120,
     "metadata": {},
     "output_type": "execute_result"
    }
   ],
   "source": [
    "os.listdir()"
   ]
  },
  {
   "cell_type": "code",
   "execution_count": 121,
   "metadata": {},
   "outputs": [],
   "source": [
    "import platform"
   ]
  },
  {
   "cell_type": "code",
   "execution_count": 122,
   "metadata": {},
   "outputs": [
    {
     "data": {
      "text/plain": [
       "'Linux-4.19.84-microsoft-standard-x86_64-with-Ubuntu-18.04-bionic'"
      ]
     },
     "execution_count": 122,
     "metadata": {},
     "output_type": "execute_result"
    }
   ],
   "source": [
    "platform.platform()"
   ]
  },
  {
   "cell_type": "code",
   "execution_count": 123,
   "metadata": {},
   "outputs": [
    {
     "data": {
      "text/plain": [
       "True"
      ]
     },
     "execution_count": 123,
     "metadata": {},
     "output_type": "execute_result"
    }
   ],
   "source": [
    "'é'.isalpha()"
   ]
  },
  {
   "cell_type": "code",
   "execution_count": 125,
   "metadata": {},
   "outputs": [],
   "source": [
    "soup = bsoup(requests.get('https://www.imdb.com/search/title/?groups=top_1000&sort=user_rating,desc&count=100&start=1&ref_=adv_nxt').text, 'html.parser')"
   ]
  },
  {
   "cell_type": "code",
   "execution_count": 126,
   "metadata": {},
   "outputs": [],
   "source": [
    "result = soup.find(class_='lister-item mode-advanced')"
   ]
  },
  {
   "cell_type": "code",
   "execution_count": 128,
   "metadata": {},
   "outputs": [
    {
     "data": {
      "text/plain": [
       "'\\n1.\\nThe Shawshank Redemption\\n(1994)\\n'"
      ]
     },
     "execution_count": 128,
     "metadata": {},
     "output_type": "execute_result"
    }
   ],
   "source": [
    "result.find('h3').text"
   ]
  },
  {
   "cell_type": "code",
   "execution_count": 144,
   "metadata": {},
   "outputs": [
    {
     "data": {
      "text/plain": [
       "(' Shawshank Redemption', '1994')"
      ]
     },
     "execution_count": 144,
     "metadata": {},
     "output_type": "execute_result"
    }
   ],
   "source": [
    "regex = re.compile('[!a-zA-Z]{1,10}([a-zA-Z ]*).*\\((\\d{4})\\)', re.DOTALL)\n",
    "regex.search(result.find('h3').text).groups()"
   ]
  },
  {
   "cell_type": "code",
   "execution_count": 147,
   "metadata": {},
   "outputs": [],
   "source": [
    "partial_url = result.find('h3').find('a').attrs['href']"
   ]
  },
  {
   "cell_type": "code",
   "execution_count": null,
   "metadata": {},
   "outputs": [],
   "source": []
  },
  {
   "cell_type": "code",
   "execution_count": null,
   "metadata": {},
   "outputs": [],
   "source": []
  }
 ],
 "metadata": {
  "kernelspec": {
   "display_name": "Python 3",
   "language": "python",
   "name": "python3"
  },
  "language_info": {
   "codemirror_mode": {
    "name": "ipython",
    "version": 3
   },
   "file_extension": ".py",
   "mimetype": "text/x-python",
   "name": "python",
   "nbconvert_exporter": "python",
   "pygments_lexer": "ipython3",
   "version": "3.6.9"
  }
 },
 "nbformat": 4,
 "nbformat_minor": 4
}
